{
 "cells": [
  {
   "cell_type": "code",
   "execution_count": 3,
   "metadata": {},
   "outputs": [
    {
     "name": "stdout",
     "output_type": "stream",
     "text": [
      "\u001b[32mAI 助手系统消息:\n",
      "BaseMessage(role_name='Python 程序员', role_type=<RoleType.ASSISTANT: 'assistant'>, meta_dict={'task': '开发一个基于Python的股票交易机器人，结合机器学习算法实时分析股票市场数据，预测股票价格趋势，并在最佳时机自动执行买卖操作，确保实现投资回报最大化。机器人需具备风险管理功能，能够根据市场波动调整策略，避免潜在损失。', 'assistant_role': 'Python 程序员', 'user_role': '股票交易员'}, content='===== RULES OF ASSISTANT =====\\nNever forget you are a Python 程序员 and I am a 股票交易员. Never flip roles! Never instruct me!\\nWe share a common interest in collaborating to successfully complete a task.\\nYou must help me to complete the task.\\nHere is the task: 开发一个基于Python的股票交易机器人，结合机器学习算法实时分析股票市场数据，预测股票价格趋势，并在最佳时机自动执行买卖操作，确保实现投资回报最大化。机器人需具备风险管理功能，能够根据市场波动调整策略，避免潜在损失。. Never forget our task!\\nI must instruct you based on your expertise and my needs to complete the task.\\n\\nI must give you one instruction at a time.\\nYou must write a specific solution that appropriately solves the requested instruction and explain your solutions.\\nYou must decline my instruction honestly if you cannot perform the instruction due to physical, moral, legal reasons or your capability and explain the reasons.\\nUnless I say the task is completed, you should always start with:\\n\\nSolution: <YOUR_SOLUTION>\\n\\n<YOUR_SOLUTION> should be very specific, include detailed explanations and provide preferable detailed implementations and examples and lists for task-solving.\\nAlways end <YOUR_SOLUTION> with: Next request.\\nRegardless of the input language, you must output text in 中文.', video_bytes=None, image_list=None, image_detail='auto', video_detail='low', parsed=None)\n",
      "\n",
      "\u001b[34mAI 用户系统消息:\n",
      "BaseMessage(role_name='股票交易员', role_type=<RoleType.USER: 'user'>, meta_dict={'task': '开发一个基于Python的股票交易机器人，结合机器学习算法实时分析股票市场数据，预测股票价格趋势，并在最佳时机自动执行买卖操作，确保实现投资回报最大化。机器人需具备风险管理功能，能够根据市场波动调整策略，避免潜在损失。', 'assistant_role': 'Python 程序员', 'user_role': '股票交易员'}, content='===== RULES OF USER =====\\nNever forget you are a 股票交易员 and I am a Python 程序员. Never flip roles! You will always instruct me.\\nWe share a common interest in collaborating to successfully complete a task.\\nI must help you to complete the task.\\nHere is the task: 开发一个基于Python的股票交易机器人，结合机器学习算法实时分析股票市场数据，预测股票价格趋势，并在最佳时机自动执行买卖操作，确保实现投资回报最大化。机器人需具备风险管理功能，能够根据市场波动调整策略，避免潜在损失。. Never forget our task!\\nYou must instruct me based on my expertise and your needs to solve the task ONLY in the following two ways:\\n\\n1. Instruct with a necessary input:\\nInstruction: <YOUR_INSTRUCTION>\\nInput: <YOUR_INPUT>\\n\\n2. Instruct without any input:\\nInstruction: <YOUR_INSTRUCTION>\\nInput: None\\n\\nThe \"Instruction\" describes a task or question. The paired \"Input\" provides further context or information for the requested \"Instruction\".\\n\\nYou must give me one instruction at a time.\\nI must write a response that appropriately solves the requested instruction.\\nI must decline your instruction honestly if I cannot perform the instruction due to physical, moral, legal reasons or my capability and explain the reasons.\\nYou should instruct me not ask me questions.\\nNow you must start to instruct me using the two ways described above.\\nDo not add anything else other than your instruction and the optional corresponding input!\\nKeep giving me instructions and necessary inputs until you think the task is completed.\\nWhen the task is completed, you must only reply with a single word <CAMEL_TASK_DONE>.\\nNever say <CAMEL_TASK_DONE> unless my responses have solved your task.\\nRegardless of the input language, you must output text in 中文.', video_bytes=None, image_list=None, image_detail='auto', video_detail='low', parsed=None)\n",
      "\n",
      "\u001b[33m原始任务提示:\n",
      "为股票市场开发一个交易机器人\n",
      "\n",
      "\u001b[36m指定的任务提示:\n",
      "开发一个基于Python的股票交易机器人，结合机器学习算法实时分析股票市场数据，预测股票价格趋势，并在最佳时机自动执行买卖操作，确保实现投资回报最大化。机器人需具备风险管理功能，能够根据市场波动调整策略，避免潜在损失。\n",
      "\n",
      "\u001b[31m最终任务提示:\n",
      "开发一个基于Python的股票交易机器人，结合机器学习算法实时分析股票市场数据，预测股票价格趋势，并在最佳时机自动执行买卖操作，确保实现投资回报最大化。机器人需具备风险管理功能，能够根据市场波动调整策略，避免潜在损失。\n",
      "\n",
      "\u001b[34mAI 用户:\n",
      "\n",
      "Instruction: 请安装并设置Python环境，以便开始开发股票交易机器人。  \n",
      "Input: None\n",
      "\u001b[32mAI 助手:\n",
      "\n",
      "抱歉，我无法执行物理安装任务。但我可以为你提供详细的安装和设置指南。\n",
      "\n",
      "Solution: \n",
      "\n",
      "1. **安装Python**"
     ]
    },
    {
     "ename": "KeyboardInterrupt",
     "evalue": "",
     "output_type": "error",
     "traceback": [
      "\u001b[31m---------------------------------------------------------------------------\u001b[39m",
      "\u001b[31mKeyboardInterrupt\u001b[39m                         Traceback (most recent call last)",
      "\u001b[36mCell\u001b[39m\u001b[36m \u001b[39m\u001b[32mIn[3]\u001b[39m\u001b[32m, line 95\u001b[39m\n\u001b[32m     92\u001b[39m         input_msg = assistant_response.msg\n\u001b[32m     94\u001b[39m \u001b[38;5;28;01mif\u001b[39;00m \u001b[34m__name__\u001b[39m == \u001b[33m\"\u001b[39m\u001b[33m__main__\u001b[39m\u001b[33m\"\u001b[39m:\n\u001b[32m---> \u001b[39m\u001b[32m95\u001b[39m     \u001b[43mmain\u001b[49m\u001b[43m(\u001b[49m\u001b[43m)\u001b[49m\n",
      "\u001b[36mCell\u001b[39m\u001b[36m \u001b[39m\u001b[32mIn[3]\u001b[39m\u001b[32m, line 84\u001b[39m, in \u001b[36mmain\u001b[39m\u001b[34m(model, chat_turn_limit)\u001b[39m\n\u001b[32m     79\u001b[39m     \u001b[38;5;28;01mbreak\u001b[39;00m\n\u001b[32m     81\u001b[39m print_text_animated(\n\u001b[32m     82\u001b[39m     Fore.BLUE + \u001b[33mf\u001b[39m\u001b[33m\"\u001b[39m\u001b[33mAI 用户:\u001b[39m\u001b[38;5;130;01m\\n\u001b[39;00m\u001b[38;5;130;01m\\n\u001b[39;00m\u001b[38;5;132;01m{\u001b[39;00muser_response.msg.content\u001b[38;5;132;01m}\u001b[39;00m\u001b[38;5;130;01m\\n\u001b[39;00m\u001b[33m\"\u001b[39m\n\u001b[32m     83\u001b[39m )\n\u001b[32m---> \u001b[39m\u001b[32m84\u001b[39m \u001b[43mprint_text_animated\u001b[49m\u001b[43m(\u001b[49m\n\u001b[32m     85\u001b[39m \u001b[43m    \u001b[49m\u001b[43mFore\u001b[49m\u001b[43m.\u001b[49m\u001b[43mGREEN\u001b[49m\u001b[43m \u001b[49m\u001b[43m+\u001b[49m\u001b[43m \u001b[49m\u001b[33;43m\"\u001b[39;49m\u001b[33;43mAI 助手:\u001b[39;49m\u001b[38;5;130;43;01m\\n\u001b[39;49;00m\u001b[38;5;130;43;01m\\n\u001b[39;49;00m\u001b[33;43m\"\u001b[39;49m\n\u001b[32m     86\u001b[39m \u001b[43m    \u001b[49m\u001b[33;43mf\u001b[39;49m\u001b[33;43m\"\u001b[39;49m\u001b[38;5;132;43;01m{\u001b[39;49;00m\u001b[43massistant_response\u001b[49m\u001b[43m.\u001b[49m\u001b[43mmsg\u001b[49m\u001b[43m.\u001b[49m\u001b[43mcontent\u001b[49m\u001b[38;5;132;43;01m}\u001b[39;49;00m\u001b[38;5;130;43;01m\\n\u001b[39;49;00m\u001b[33;43m\"\u001b[39;49m\n\u001b[32m     87\u001b[39m \u001b[43m\u001b[49m\u001b[43m)\u001b[49m\n\u001b[32m     89\u001b[39m \u001b[38;5;28;01mif\u001b[39;00m \u001b[33m\"\u001b[39m\u001b[33mCAMEL_TASK_DONE\u001b[39m\u001b[33m\"\u001b[39m \u001b[38;5;129;01min\u001b[39;00m user_response.msg.content:\n\u001b[32m     90\u001b[39m     \u001b[38;5;28;01mbreak\u001b[39;00m\n",
      "\u001b[36mFile \u001b[39m\u001b[32m~/Documents/GLAD/venv312/lib/python3.12/site-packages/camel/utils/commons.py:70\u001b[39m, in \u001b[36mprint_text_animated\u001b[39m\u001b[34m(text, delay, end)\u001b[39m\n\u001b[32m     68\u001b[39m \u001b[38;5;28;01mfor\u001b[39;00m char \u001b[38;5;129;01min\u001b[39;00m text:\n\u001b[32m     69\u001b[39m     \u001b[38;5;28mprint\u001b[39m(char, end=end, flush=\u001b[38;5;28;01mTrue\u001b[39;00m)\n\u001b[32m---> \u001b[39m\u001b[32m70\u001b[39m     \u001b[43mtime\u001b[49m\u001b[43m.\u001b[49m\u001b[43msleep\u001b[49m\u001b[43m(\u001b[49m\u001b[43mdelay\u001b[49m\u001b[43m)\u001b[49m\n",
      "\u001b[31mKeyboardInterrupt\u001b[39m: "
     ]
    }
   ],
   "source": [
    "from colorama import Fore\n",
    "\n",
    "from camel.societies import RolePlaying\n",
    "from camel.utils import print_text_animated\n",
    "from camel.models import ModelFactory\n",
    "from camel.types import ModelPlatformType\n",
    "\n",
    "from dotenv import load_dotenv\n",
    "\n",
    "import os\n",
    "\n",
    "load_dotenv(dotenv_path='.env')\n",
    "\n",
    "api_key = os.getenv('QWEN_API_KEY')\n",
    "\n",
    "model = ModelFactory.create(\n",
    "    model_platform=ModelPlatformType.OPENAI_COMPATIBLE_MODEL,\n",
    "    model_type=\"gpt-4o\",\n",
    "    url='https://api.shubiaobiao.cn/v1',\n",
    "    api_key=\"sk-HCkRhThj35aWxnYND50c64BbC026434f95E6538bE92f1cC5\",\n",
    "    model_config_dict={\n",
    "        \"temperature\": 0.7,\n",
    "        \"max_tokens\": 2000\n",
    "    }\n",
    ")\n",
    "\n",
    "def main(model=model, chat_turn_limit=50) -> None:\n",
    "    task_prompt = \"为股票市场开发一个交易机器人\"#设置任务目标\n",
    "    role_play_session = RolePlaying(\n",
    "        assistant_role_name=\"Python 程序员\",#设置AI助手角色名\n",
    "        assistant_agent_kwargs=dict(model=model),\n",
    "        user_role_name=\"股票交易员\",#设置用户角色名，在roleplay中，user用于指导AI助手完成任务\n",
    "        user_agent_kwargs=dict(model=model),\n",
    "        task_prompt=task_prompt,\n",
    "        with_task_specify=True,\n",
    "        task_specify_agent_kwargs=dict(model=model),\n",
    "        output_language='中文'#设置输出语言\n",
    "    )\n",
    "\n",
    "    print(\n",
    "        Fore.GREEN\n",
    "        + f\"AI 助手系统消息:\\n{role_play_session.assistant_sys_msg}\\n\"\n",
    "    )\n",
    "    print(\n",
    "        Fore.BLUE + f\"AI 用户系统消息:\\n{role_play_session.user_sys_msg}\\n\"\n",
    "    )\n",
    "\n",
    "    print(Fore.YELLOW + f\"原始任务提示:\\n{task_prompt}\\n\")\n",
    "    print(\n",
    "        Fore.CYAN\n",
    "        + \"指定的任务提示:\"\n",
    "        + f\"\\n{role_play_session.specified_task_prompt}\\n\"\n",
    "    )\n",
    "    print(Fore.RED + f\"最终任务提示:\\n{role_play_session.task_prompt}\\n\")\n",
    "\n",
    "    n = 0\n",
    "    input_msg = role_play_session.init_chat()\n",
    "    while n < chat_turn_limit:\n",
    "        n += 1\n",
    "        assistant_response, user_response = role_play_session.step(input_msg)\n",
    "\n",
    "        if assistant_response.terminated:\n",
    "            print(\n",
    "                Fore.GREEN\n",
    "                + (\n",
    "                    \"AI 助手已终止。原因: \"\n",
    "                    f\"{assistant_response.info['termination_reasons']}.\"\n",
    "                )\n",
    "            )\n",
    "            break\n",
    "        if user_response.terminated:\n",
    "            print(\n",
    "                Fore.GREEN\n",
    "                + (\n",
    "                    \"AI 用户已终止。\"\n",
    "                    f\"原因: {user_response.info['termination_reasons']}.\"\n",
    "                )\n",
    "            )\n",
    "            break\n",
    "\n",
    "        print_text_animated(\n",
    "            Fore.BLUE + f\"AI 用户:\\n\\n{user_response.msg.content}\\n\"\n",
    "        )\n",
    "        print_text_animated(\n",
    "            Fore.GREEN + \"AI 助手:\\n\\n\"\n",
    "            f\"{assistant_response.msg.content}\\n\"\n",
    "        )\n",
    "\n",
    "        if \"CAMEL_TASK_DONE\" in user_response.msg.content:\n",
    "            break\n",
    "\n",
    "        input_msg = assistant_response.msg\n",
    "\n",
    "if __name__ == \"__main__\":\n",
    "    main()\n"
   ]
  },
  {
   "cell_type": "code",
   "execution_count": 1,
   "metadata": {},
   "outputs": [
    {
     "name": "stdout",
     "output_type": "stream",
     "text": [
      "[<ModelPlatformType.DEFAULT: 'openai'>, <ModelPlatformType.AWS_BEDROCK: 'aws-bedrock'>, <ModelPlatformType.AZURE: 'azure'>, <ModelPlatformType.ANTHROPIC: 'anthropic'>, <ModelPlatformType.GROQ: 'groq'>, <ModelPlatformType.OPENROUTER: 'openrouter'>, <ModelPlatformType.OLLAMA: 'ollama'>, <ModelPlatformType.LITELLM: 'litellm'>, <ModelPlatformType.LMSTUDIO: 'lmstudio'>, <ModelPlatformType.ZHIPU: 'zhipuai'>, <ModelPlatformType.GEMINI: 'gemini'>, <ModelPlatformType.VLLM: 'vllm'>, <ModelPlatformType.MISTRAL: 'mistral'>, <ModelPlatformType.REKA: 'reka'>, <ModelPlatformType.TOGETHER: 'together'>, <ModelPlatformType.OPENAI_COMPATIBLE_MODEL: 'openai-compatible-model'>, <ModelPlatformType.SAMBA: 'samba-nova'>, <ModelPlatformType.COHERE: 'cohere'>, <ModelPlatformType.YI: 'lingyiwanwu'>, <ModelPlatformType.QWEN: 'tongyi-qianwen'>, <ModelPlatformType.NVIDIA: 'nvidia'>, <ModelPlatformType.DEEPSEEK: 'deepseek'>, <ModelPlatformType.PPIO: 'ppio'>, <ModelPlatformType.SGLANG: 'sglang'>, <ModelPlatformType.INTERNLM: 'internlm'>, <ModelPlatformType.MOONSHOT: 'moonshot'>, <ModelPlatformType.MODELSCOPE: 'modelscope'>, <ModelPlatformType.SILICONFLOW: 'siliconflow'>, <ModelPlatformType.AIML: 'aiml'>, <ModelPlatformType.VOLCANO: 'volcano'>, <ModelPlatformType.NETMIND: 'netmind'>]\n"
     ]
    }
   ],
   "source": [
    "from camel.types import ModelPlatformType\n",
    "print(list(ModelPlatformType))"
   ]
  },
  {
   "cell_type": "code",
   "execution_count": 4,
   "metadata": {},
   "outputs": [
    {
     "ename": "NameError",
     "evalue": "name 'self' is not defined",
     "output_type": "error",
     "traceback": [
      "\u001b[31m---------------------------------------------------------------------------\u001b[39m",
      "\u001b[31mNameError\u001b[39m                                 Traceback (most recent call last)",
      "\u001b[36mCell\u001b[39m\u001b[36m \u001b[39m\u001b[32mIn[4]\u001b[39m\u001b[32m, line 1\u001b[39m\n\u001b[32m----> \u001b[39m\u001b[32m1\u001b[39m \u001b[38;5;28mprint\u001b[39m(\u001b[38;5;28mdir\u001b[39m(\u001b[38;5;28;43mself\u001b[39;49m.client))\n",
      "\u001b[31mNameError\u001b[39m: name 'self' is not defined"
     ]
    }
   ],
   "source": [
    "# 精简投资者画像，只保留关键信息\n",
    "    profile_brief = (\n",
    "        f\"持仓类别：{profile['behavior_attrs']['holding_types']}，\"\n",
    "        f\"投资目的：{profile['basic_attrs']['investment_purpose']}，\"\n",
    "        f\"风险偏好：{profile['psychological_attrs']['risk_preference']}，\"\n",
    "        f\"损失厌恶度：{profile['psychological_attrs']['loss_aversion']}，\"\n",
    "        f\"偏好资产：{','.join(profile['behavior_attrs']['preferred_assets'])}\"\n",
    "    )\n",
    "\n",
    "    prompt = f\"\"\"\n",
    "你是一个金融新闻智能助手。请根据以下投资者画像，返回{n}条与其最相关的最新财经新闻。\n",
    "\n",
    "【重要要求】\n",
    "1. 只返回具体的新闻事件，不要返回任何门户网站首页、频道页、导航页、网站介绍、财经资讯平台简介等内容。\n",
    "2. 每条新闻必须是最近发生的真实财经事件，内容应包含具体的公司、市场、政策、经济数据、行业动态等。\n",
    "3. 摘要必须是对新闻事件本身的简要说明，不要出现\"我们提供最新财经资讯\"等模板化介绍。\n",
    "4. 输出格式：每条新闻一行，内容和情绪值用|||分隔。例如：新闻标题：xxx；摘要：xxx|||情绪值。\n",
    "5. 每条新闻的摘要不超过100字。\n",
    "6. 不要返回任何广告、推广、无关内容。\n",
    "\n",
    "投资者画像：{profile_brief}\n",
    "\"\"\""
   ]
  }
 ],
 "metadata": {
  "kernelspec": {
   "display_name": "venv312",
   "language": "python",
   "name": "python3"
  },
  "language_info": {
   "codemirror_mode": {
    "name": "ipython",
    "version": 3
   },
   "file_extension": ".py",
   "mimetype": "text/x-python",
   "name": "python",
   "nbconvert_exporter": "python",
   "pygments_lexer": "ipython3",
   "version": "3.12.3"
  }
 },
 "nbformat": 4,
 "nbformat_minor": 2
}
